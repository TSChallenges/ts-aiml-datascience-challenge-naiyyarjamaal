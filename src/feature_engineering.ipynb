{
 "cells": [
  {
   "cell_type": "code",
   "execution_count": null,
   "id": "1f31be23",
   "metadata": {},
   "outputs": [
    {
     "name": "stdout",
     "output_type": "stream",
     "text": [
      "customer_id         0\n",
      "credit_score        0\n",
      "country             0\n",
      "gender              0\n",
      "age                 0\n",
      "tenure              0\n",
      "balance             0\n",
      "products_number     0\n",
      "credit_card         0\n",
      "active_member       0\n",
      "estimated_salary    0\n",
      "churn               0\n",
      "dtype: int64\n"
     ]
    }
   ],
   "source": [
    "# src/feature_engineering.py\n",
    "\n",
    "import pandas as pd\n",
    "from sklearn.preprocessing import LabelEncoder\n",
    "\n",
    "def load_data(filepath):\n",
    "    \"\"\"\n",
    "    Load the dataset into a pandas DataFrame.\n",
    "    \"\"\"\n",
    "    df = pd.read_csv(filepath)\n",
    "    return df\n",
    "\n",
    "def handle_missing_values(df):\n",
    "    \"\"\"\n",
    "    Handle missing values appropriately.\n",
    "    \"\"\"\n",
    "    df['age'] = df['age'].fillna(df['age'].mean())\n",
    "    df['balance'] = df['balance'].fillna(df['balance'].mean())\n",
    "    df['credit_score'] = df['credit_score'].fillna(df['credit_score'].mean())\n",
    "    df['estimated_salary'] = df['estimated_salary'].fillna(df['estimated_salary'].mean())\n",
    "    # print(min(df['age'], max(df['age'])))\n",
    "    print(df.isnull().sum())\n",
    "    return df\n",
    "\n",
    "def create_age_groups(df):\n",
    "    bins = [17, 30, 45, 60, 100]  # Age ranges\n",
    "    labels = ['young', 'adult', 'middle-aged', 'senior']  # Labels for age groups\n",
    "    #todo: create age groups\n",
    "    df['age_groups'] = pd.cut(df['age'], bins=bins, labels=labels, right=False)\n",
    "    df = df.dropna()\n",
    "    return df\n",
    "\n",
    "def encode_categorical_features(df):\n",
    "    \"\"\"\n",
    "    Encode categorical features using Label Encoding.\n",
    "    \"\"\"\n",
    "    le = LabelEncoder()\n",
    "    categorical_cols = ['country', 'gender', 'credit_card']\n",
    "    # todo: run a loop to fit each column into le\n",
    "    for column in categorical_cols:\n",
    "        df[column] = le.fit_transform(df[column])\n",
    "    return df\n",
    "\n",
    "def save_processed_data(df, filepath):\n",
    "    \"\"\"\n",
    "    Save the processed DataFrame to a CSV file.\n",
    "    \"\"\"\n",
    "    #todo save the processed data into data folder using to_csv\n",
    "    df.to_csv(filepath, index=False)\n",
    "\n",
    "def main():\n",
    "    # Load data\n",
    "    df = load_data(\"data/bank_churn.csv\")\n",
    "\n",
    "    \n",
    "    # Handle missing values\n",
    "    df = handle_missing_values(df)\n",
    "    \n",
    "    # Create age groups\n",
    "    df = create_age_groups(df)\n",
    "    \n",
    "    # Encode categorical features\n",
    "    df = encode_categorical_features(df)\n",
    "    \n",
    "    # Save processed data\n",
    "    save_processed_data(df, 'data/processed_bank_churn.csv') \n",
    "\n",
    "if __name__ == \"__main__\":\n",
    "    main()\n"
   ]
  },
  {
   "cell_type": "code",
   "execution_count": null,
   "id": "ef19ebf4",
   "metadata": {},
   "outputs": [],
   "source": []
  },
  {
   "cell_type": "code",
   "execution_count": null,
   "id": "5b23bec9",
   "metadata": {},
   "outputs": [],
   "source": []
  }
 ],
 "metadata": {
  "kernelspec": {
   "display_name": "Python 3 (ipykernel)",
   "language": "python",
   "name": "python3"
  },
  "language_info": {
   "codemirror_mode": {
    "name": "ipython",
    "version": 3
   },
   "file_extension": ".py",
   "mimetype": "text/x-python",
   "name": "python",
   "nbconvert_exporter": "python",
   "pygments_lexer": "ipython3",
   "version": "3.12.1"
  }
 },
 "nbformat": 4,
 "nbformat_minor": 5
}
